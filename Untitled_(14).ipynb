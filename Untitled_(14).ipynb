{
  "cells": [
    {
      "cell_type": "markdown",
      "metadata": {
        "id": "view-in-github",
        "colab_type": "text"
      },
      "source": [
        "<a href=\"https://colab.research.google.com/github/Victory567/lab-feature-engineering/blob/master/Untitled_(14).ipynb\" target=\"_parent\"><img src=\"https://colab.research.google.com/assets/colab-badge.svg\" alt=\"Open In Colab\"/></a>"
      ]
    },
    {
      "cell_type": "code",
      "execution_count": null,
      "id": "e5b6f76c",
      "metadata": {
        "id": "e5b6f76c"
      },
      "outputs": [],
      "source": [
        "import pandas as pd\n",
        "import numpy as np\n",
        "import datetime\n",
        "import warnings\n",
        "import matplotlib.pyplot as plt\n",
        "import seaborn as sns\n",
        "\n",
        "warnings.filterwarnings('ignore')"
      ]
    },
    {
      "cell_type": "code",
      "execution_count": null,
      "id": "14f7b042",
      "metadata": {
        "id": "14f7b042"
      },
      "outputs": [],
      "source": [
        "data = pd.read_csv('learningSet.csv')\n",
        "numerical = pd.read_csv('numerical.csv')\n",
        "categorical = pd.read_csv('categorical.csv')\n",
        "targets = pd.read_csv('target.csv')"
      ]
    },
    {
      "cell_type": "code",
      "execution_count": null,
      "id": "a1d3254e",
      "metadata": {
        "id": "a1d3254e",
        "outputId": "4a4904e6-c090-4b31-97cb-8eedc6f71d08"
      },
      "outputs": [
        {
          "data": {
            "text/plain": [
              "(95412, 481)"
            ]
          },
          "execution_count": 3,
          "metadata": {},
          "output_type": "execute_result"
        }
      ],
      "source": [
        "data.shape"
      ]
    },
    {
      "cell_type": "code",
      "execution_count": null,
      "id": "66844513",
      "metadata": {
        "id": "66844513",
        "outputId": "14e35411-ac6c-4645-b03a-87a4033814d3"
      },
      "outputs": [
        {
          "data": {
            "text/html": [
              "<div>\n",
              "<style scoped>\n",
              "    .dataframe tbody tr th:only-of-type {\n",
              "        vertical-align: middle;\n",
              "    }\n",
              "\n",
              "    .dataframe tbody tr th {\n",
              "        vertical-align: top;\n",
              "    }\n",
              "\n",
              "    .dataframe thead th {\n",
              "        text-align: right;\n",
              "    }\n",
              "</style>\n",
              "<table border=\"1\" class=\"dataframe\">\n",
              "  <thead>\n",
              "    <tr style=\"text-align: right;\">\n",
              "      <th></th>\n",
              "      <th>ODATEDW</th>\n",
              "      <th>TCODE</th>\n",
              "      <th>DOB</th>\n",
              "      <th>AGE</th>\n",
              "      <th>NUMCHLD</th>\n",
              "      <th>INCOME</th>\n",
              "      <th>WEALTH1</th>\n",
              "      <th>HIT</th>\n",
              "      <th>MBCRAFT</th>\n",
              "      <th>MBGARDEN</th>\n",
              "      <th>...</th>\n",
              "      <th>FISTDATE</th>\n",
              "      <th>NEXTDATE</th>\n",
              "      <th>TIMELAG</th>\n",
              "      <th>AVGGIFT</th>\n",
              "      <th>CONTROLN</th>\n",
              "      <th>TARGET_B</th>\n",
              "      <th>TARGET_D</th>\n",
              "      <th>HPHONE_D</th>\n",
              "      <th>RFA_2F</th>\n",
              "      <th>CLUSTER2</th>\n",
              "    </tr>\n",
              "  </thead>\n",
              "  <tbody>\n",
              "    <tr>\n",
              "      <th>count</th>\n",
              "      <td>95412.000000</td>\n",
              "      <td>95412.000000</td>\n",
              "      <td>95412.000000</td>\n",
              "      <td>71747.000000</td>\n",
              "      <td>12386.000000</td>\n",
              "      <td>74126.000000</td>\n",
              "      <td>50680.000000</td>\n",
              "      <td>95412.000000</td>\n",
              "      <td>42558.000000</td>\n",
              "      <td>42558.000000</td>\n",
              "      <td>...</td>\n",
              "      <td>95412.000000</td>\n",
              "      <td>85439.000000</td>\n",
              "      <td>85439.000000</td>\n",
              "      <td>95412.000000</td>\n",
              "      <td>95412.000000</td>\n",
              "      <td>95412.000000</td>\n",
              "      <td>95412.000000</td>\n",
              "      <td>95412.000000</td>\n",
              "      <td>95412.000000</td>\n",
              "      <td>95280.000000</td>\n",
              "    </tr>\n",
              "    <tr>\n",
              "      <th>mean</th>\n",
              "      <td>9141.363256</td>\n",
              "      <td>54.223117</td>\n",
              "      <td>2723.602933</td>\n",
              "      <td>61.611649</td>\n",
              "      <td>1.527773</td>\n",
              "      <td>3.886248</td>\n",
              "      <td>5.345699</td>\n",
              "      <td>3.321438</td>\n",
              "      <td>0.152075</td>\n",
              "      <td>0.059166</td>\n",
              "      <td>...</td>\n",
              "      <td>9135.651648</td>\n",
              "      <td>9151.022917</td>\n",
              "      <td>8.093739</td>\n",
              "      <td>13.347786</td>\n",
              "      <td>95778.176959</td>\n",
              "      <td>0.050759</td>\n",
              "      <td>0.793073</td>\n",
              "      <td>0.500618</td>\n",
              "      <td>1.910053</td>\n",
              "      <td>31.533711</td>\n",
              "    </tr>\n",
              "    <tr>\n",
              "      <th>std</th>\n",
              "      <td>343.454752</td>\n",
              "      <td>953.844476</td>\n",
              "      <td>2132.241295</td>\n",
              "      <td>16.664199</td>\n",
              "      <td>0.806861</td>\n",
              "      <td>1.854960</td>\n",
              "      <td>2.742490</td>\n",
              "      <td>9.306899</td>\n",
              "      <td>0.470023</td>\n",
              "      <td>0.262078</td>\n",
              "      <td>...</td>\n",
              "      <td>320.394019</td>\n",
              "      <td>294.257260</td>\n",
              "      <td>8.213242</td>\n",
              "      <td>10.769997</td>\n",
              "      <td>55284.596094</td>\n",
              "      <td>0.219506</td>\n",
              "      <td>4.429725</td>\n",
              "      <td>0.500002</td>\n",
              "      <td>1.072749</td>\n",
              "      <td>18.764614</td>\n",
              "    </tr>\n",
              "    <tr>\n",
              "      <th>min</th>\n",
              "      <td>8306.000000</td>\n",
              "      <td>0.000000</td>\n",
              "      <td>0.000000</td>\n",
              "      <td>1.000000</td>\n",
              "      <td>1.000000</td>\n",
              "      <td>1.000000</td>\n",
              "      <td>0.000000</td>\n",
              "      <td>0.000000</td>\n",
              "      <td>0.000000</td>\n",
              "      <td>0.000000</td>\n",
              "      <td>...</td>\n",
              "      <td>0.000000</td>\n",
              "      <td>7211.000000</td>\n",
              "      <td>0.000000</td>\n",
              "      <td>1.285714</td>\n",
              "      <td>1.000000</td>\n",
              "      <td>0.000000</td>\n",
              "      <td>0.000000</td>\n",
              "      <td>0.000000</td>\n",
              "      <td>1.000000</td>\n",
              "      <td>1.000000</td>\n",
              "    </tr>\n",
              "    <tr>\n",
              "      <th>25%</th>\n",
              "      <td>8801.000000</td>\n",
              "      <td>0.000000</td>\n",
              "      <td>201.000000</td>\n",
              "      <td>48.000000</td>\n",
              "      <td>1.000000</td>\n",
              "      <td>2.000000</td>\n",
              "      <td>3.000000</td>\n",
              "      <td>0.000000</td>\n",
              "      <td>0.000000</td>\n",
              "      <td>0.000000</td>\n",
              "      <td>...</td>\n",
              "      <td>8810.000000</td>\n",
              "      <td>8903.000000</td>\n",
              "      <td>4.000000</td>\n",
              "      <td>8.384615</td>\n",
              "      <td>47910.750000</td>\n",
              "      <td>0.000000</td>\n",
              "      <td>0.000000</td>\n",
              "      <td>0.000000</td>\n",
              "      <td>1.000000</td>\n",
              "      <td>15.000000</td>\n",
              "    </tr>\n",
              "    <tr>\n",
              "      <th>50%</th>\n",
              "      <td>9201.000000</td>\n",
              "      <td>1.000000</td>\n",
              "      <td>2610.000000</td>\n",
              "      <td>62.000000</td>\n",
              "      <td>1.000000</td>\n",
              "      <td>4.000000</td>\n",
              "      <td>6.000000</td>\n",
              "      <td>0.000000</td>\n",
              "      <td>0.000000</td>\n",
              "      <td>0.000000</td>\n",
              "      <td>...</td>\n",
              "      <td>9201.000000</td>\n",
              "      <td>9204.000000</td>\n",
              "      <td>6.000000</td>\n",
              "      <td>11.636364</td>\n",
              "      <td>95681.500000</td>\n",
              "      <td>0.000000</td>\n",
              "      <td>0.000000</td>\n",
              "      <td>1.000000</td>\n",
              "      <td>2.000000</td>\n",
              "      <td>32.000000</td>\n",
              "    </tr>\n",
              "    <tr>\n",
              "      <th>75%</th>\n",
              "      <td>9501.000000</td>\n",
              "      <td>2.000000</td>\n",
              "      <td>4601.000000</td>\n",
              "      <td>75.000000</td>\n",
              "      <td>2.000000</td>\n",
              "      <td>5.000000</td>\n",
              "      <td>8.000000</td>\n",
              "      <td>3.000000</td>\n",
              "      <td>0.000000</td>\n",
              "      <td>0.000000</td>\n",
              "      <td>...</td>\n",
              "      <td>9409.000000</td>\n",
              "      <td>9409.000000</td>\n",
              "      <td>11.000000</td>\n",
              "      <td>15.477955</td>\n",
              "      <td>143643.500000</td>\n",
              "      <td>0.000000</td>\n",
              "      <td>0.000000</td>\n",
              "      <td>1.000000</td>\n",
              "      <td>3.000000</td>\n",
              "      <td>49.000000</td>\n",
              "    </tr>\n",
              "    <tr>\n",
              "      <th>max</th>\n",
              "      <td>9701.000000</td>\n",
              "      <td>72002.000000</td>\n",
              "      <td>9710.000000</td>\n",
              "      <td>98.000000</td>\n",
              "      <td>7.000000</td>\n",
              "      <td>7.000000</td>\n",
              "      <td>9.000000</td>\n",
              "      <td>241.000000</td>\n",
              "      <td>6.000000</td>\n",
              "      <td>4.000000</td>\n",
              "      <td>...</td>\n",
              "      <td>9603.000000</td>\n",
              "      <td>9702.000000</td>\n",
              "      <td>1088.000000</td>\n",
              "      <td>1000.000000</td>\n",
              "      <td>191779.000000</td>\n",
              "      <td>1.000000</td>\n",
              "      <td>200.000000</td>\n",
              "      <td>1.000000</td>\n",
              "      <td>4.000000</td>\n",
              "      <td>62.000000</td>\n",
              "    </tr>\n",
              "  </tbody>\n",
              "</table>\n",
              "<p>8 rows × 407 columns</p>\n",
              "</div>"
            ],
            "text/plain": [
              "            ODATEDW         TCODE           DOB           AGE       NUMCHLD  \\\n",
              "count  95412.000000  95412.000000  95412.000000  71747.000000  12386.000000   \n",
              "mean    9141.363256     54.223117   2723.602933     61.611649      1.527773   \n",
              "std      343.454752    953.844476   2132.241295     16.664199      0.806861   \n",
              "min     8306.000000      0.000000      0.000000      1.000000      1.000000   \n",
              "25%     8801.000000      0.000000    201.000000     48.000000      1.000000   \n",
              "50%     9201.000000      1.000000   2610.000000     62.000000      1.000000   \n",
              "75%     9501.000000      2.000000   4601.000000     75.000000      2.000000   \n",
              "max     9701.000000  72002.000000   9710.000000     98.000000      7.000000   \n",
              "\n",
              "             INCOME       WEALTH1           HIT       MBCRAFT      MBGARDEN  \\\n",
              "count  74126.000000  50680.000000  95412.000000  42558.000000  42558.000000   \n",
              "mean       3.886248      5.345699      3.321438      0.152075      0.059166   \n",
              "std        1.854960      2.742490      9.306899      0.470023      0.262078   \n",
              "min        1.000000      0.000000      0.000000      0.000000      0.000000   \n",
              "25%        2.000000      3.000000      0.000000      0.000000      0.000000   \n",
              "50%        4.000000      6.000000      0.000000      0.000000      0.000000   \n",
              "75%        5.000000      8.000000      3.000000      0.000000      0.000000   \n",
              "max        7.000000      9.000000    241.000000      6.000000      4.000000   \n",
              "\n",
              "       ...      FISTDATE      NEXTDATE       TIMELAG       AVGGIFT  \\\n",
              "count  ...  95412.000000  85439.000000  85439.000000  95412.000000   \n",
              "mean   ...   9135.651648   9151.022917      8.093739     13.347786   \n",
              "std    ...    320.394019    294.257260      8.213242     10.769997   \n",
              "min    ...      0.000000   7211.000000      0.000000      1.285714   \n",
              "25%    ...   8810.000000   8903.000000      4.000000      8.384615   \n",
              "50%    ...   9201.000000   9204.000000      6.000000     11.636364   \n",
              "75%    ...   9409.000000   9409.000000     11.000000     15.477955   \n",
              "max    ...   9603.000000   9702.000000   1088.000000   1000.000000   \n",
              "\n",
              "            CONTROLN      TARGET_B      TARGET_D      HPHONE_D        RFA_2F  \\\n",
              "count   95412.000000  95412.000000  95412.000000  95412.000000  95412.000000   \n",
              "mean    95778.176959      0.050759      0.793073      0.500618      1.910053   \n",
              "std     55284.596094      0.219506      4.429725      0.500002      1.072749   \n",
              "min         1.000000      0.000000      0.000000      0.000000      1.000000   \n",
              "25%     47910.750000      0.000000      0.000000      0.000000      1.000000   \n",
              "50%     95681.500000      0.000000      0.000000      1.000000      2.000000   \n",
              "75%    143643.500000      0.000000      0.000000      1.000000      3.000000   \n",
              "max    191779.000000      1.000000    200.000000      1.000000      4.000000   \n",
              "\n",
              "           CLUSTER2  \n",
              "count  95280.000000  \n",
              "mean      31.533711  \n",
              "std       18.764614  \n",
              "min        1.000000  \n",
              "25%       15.000000  \n",
              "50%       32.000000  \n",
              "75%       49.000000  \n",
              "max       62.000000  \n",
              "\n",
              "[8 rows x 407 columns]"
            ]
          },
          "execution_count": 4,
          "metadata": {},
          "output_type": "execute_result"
        }
      ],
      "source": [
        "data.describe()"
      ]
    },
    {
      "cell_type": "code",
      "execution_count": null,
      "id": "86d6efbf",
      "metadata": {
        "id": "86d6efbf",
        "outputId": "e2d0754d-5afd-4160-b95f-1f37ec6b23b7"
      },
      "outputs": [
        {
          "name": "stdout",
          "output_type": "stream",
          "text": [
            "Requirement already satisfied: perfplot in c:\\users\\dell\\anaconda3\\lib\\site-packages (0.10.2)\n",
            "Requirement already satisfied: rich in c:\\users\\dell\\anaconda3\\lib\\site-packages (from perfplot) (13.3.1)\n",
            "Requirement already satisfied: matplotx in c:\\users\\dell\\anaconda3\\lib\\site-packages (from perfplot) (0.3.10)\n",
            "Requirement already satisfied: numpy in c:\\users\\dell\\anaconda3\\lib\\site-packages (from perfplot) (1.21.5)\n",
            "Requirement already satisfied: matplotlib in c:\\users\\dell\\anaconda3\\lib\\site-packages (from perfplot) (3.5.1)\n",
            "Requirement already satisfied: pyparsing>=2.2.1 in c:\\users\\dell\\anaconda3\\lib\\site-packages (from matplotlib->perfplot) (3.0.4)\n",
            "Requirement already satisfied: packaging>=20.0 in c:\\users\\dell\\anaconda3\\lib\\site-packages (from matplotlib->perfplot) (21.3)\n",
            "Requirement already satisfied: python-dateutil>=2.7 in c:\\users\\dell\\anaconda3\\lib\\site-packages (from matplotlib->perfplot) (2.8.2)\n",
            "Requirement already satisfied: fonttools>=4.22.0 in c:\\users\\dell\\anaconda3\\lib\\site-packages (from matplotlib->perfplot) (4.25.0)\n",
            "Requirement already satisfied: pillow>=6.2.0 in c:\\users\\dell\\anaconda3\\lib\\site-packages (from matplotlib->perfplot) (9.0.1)\n",
            "Requirement already satisfied: cycler>=0.10 in c:\\users\\dell\\anaconda3\\lib\\site-packages (from matplotlib->perfplot) (0.11.0)\n",
            "Requirement already satisfied: kiwisolver>=1.0.1 in c:\\users\\dell\\anaconda3\\lib\\site-packages (from matplotlib->perfplot) (1.3.2)\n",
            "Requirement already satisfied: six>=1.5 in c:\\users\\dell\\anaconda3\\lib\\site-packages (from python-dateutil>=2.7->matplotlib->perfplot) (1.16.0)\n",
            "Requirement already satisfied: markdown-it-py<3.0.0,>=2.1.0 in c:\\users\\dell\\anaconda3\\lib\\site-packages (from rich->perfplot) (2.1.0)\n",
            "Requirement already satisfied: pygments<3.0.0,>=2.14.0 in c:\\users\\dell\\anaconda3\\lib\\site-packages (from rich->perfplot) (2.14.0)\n",
            "Requirement already satisfied: mdurl~=0.1 in c:\\users\\dell\\anaconda3\\lib\\site-packages (from markdown-it-py<3.0.0,>=2.1.0->rich->perfplot) (0.1.2)\n",
            "Note: you may need to restart the kernel to use updated packages.\n"
          ]
        }
      ],
      "source": [
        "pip install perfplot\n"
      ]
    },
    {
      "cell_type": "code",
      "execution_count": null,
      "id": "741fa9ca",
      "metadata": {
        "id": "741fa9ca",
        "outputId": "b0bd69fe-5526-464d-8973-262e114624b9",
        "colab": {
          "referenced_widgets": [
            "4ac188c6d81d466b9b40360526bbb52f"
          ]
        }
      },
      "outputs": [
        {
          "data": {
            "application/vnd.jupyter.widget-view+json": {
              "model_id": "4ac188c6d81d466b9b40360526bbb52f",
              "version_major": 2,
              "version_minor": 0
            },
            "text/plain": [
              "Output()"
            ]
          },
          "metadata": {},
          "output_type": "display_data"
        },
        {
          "data": {
            "text/html": [
              "<pre style=\"white-space:pre;overflow-x:auto;line-height:normal;font-family:Menlo,'DejaVu Sans Mono',consolas,'Courier New',monospace\"></pre>\n"
            ],
            "text/plain": []
          },
          "metadata": {},
          "output_type": "display_data"
        },
        {
          "data": {
            "text/html": [
              "<pre style=\"white-space:pre;overflow-x:auto;line-height:normal;font-family:Menlo,'DejaVu Sans Mono',consolas,'Courier New',monospace\">\n",
              "</pre>\n"
            ],
            "text/plain": [
              "\n"
            ]
          },
          "metadata": {},
          "output_type": "display_data"
        }
      ],
      "source": [
        "import numpy as np\n",
        "import pandas as pd\n",
        "import perfplot\n",
        "\n",
        "\n",
        "def setup(n):\n",
        "    df = pd.DataFrame(np.random.randn(n))\n",
        "    df[df > 0.9] = np.nan\n",
        "    return df\n",
        "\n",
        "\n",
        "def isnull_any(df):\n",
        "    return df.isnull().any()\n",
        "\n",
        "\n",
        "def isnull_values_sum(df):\n",
        "    return df.isnull().values.sum() > 0\n",
        "\n",
        "\n",
        "def isnull_sum(df):\n",
        "    return df.isnull().sum() > 0\n",
        "\n",
        "\n",
        "def isnull_values_any(df):\n",
        "    return df.isnull().values.any()\n",
        "\n",
        "\n",
        "perfplot.save(\n",
        "    \"out.png\",\n",
        "    setup=setup,\n",
        "    kernels=[isnull_any, isnull_values_sum, isnull_sum, isnull_values_any],\n",
        "    n_range=[2 ** k for k in range(25)],\n",
        ")"
      ]
    },
    {
      "cell_type": "code",
      "execution_count": null,
      "id": "f6f294cf",
      "metadata": {
        "id": "f6f294cf",
        "outputId": "1084b05f-c2dd-4c82-a8fd-fdaf79e8ca6b"
      },
      "outputs": [
        {
          "data": {
            "text/plain": [
              "<bound method DataFrame.info of        TCODE        AGE  INCOME  WEALTH1  HIT  MALEMILI  MALEVET  VIETVETS  \\\n",
              "0          0  60.000000       5        9    0         0       39        34   \n",
              "1          1  46.000000       6        9   16         0       15        55   \n",
              "2          1  61.611649       3        1    2         0       20        29   \n",
              "3          0  70.000000       1        4    2         0       23        14   \n",
              "4          0  78.000000       3        2   60         1       28         9   \n",
              "...      ...        ...     ...      ...  ...       ...      ...       ...   \n",
              "95407      1  61.611649       5        9    0        14       36        47   \n",
              "95408      1  48.000000       7        9    1         0       31        43   \n",
              "95409      1  60.000000       5        9    0         0       18        46   \n",
              "95410      0  58.000000       7        9    0         0       28        35   \n",
              "95411      2  80.000000       5        8    3         1       33        22   \n",
              "\n",
              "       WWIIVETS  LOCALGOV  ...  CARDGIFT  MINRAMNT  MAXRAMNT  LASTGIFT  \\\n",
              "0            18        10  ...        14       5.0      12.0      10.0   \n",
              "1            11         6  ...         1      10.0      25.0      25.0   \n",
              "2            33         6  ...        14       2.0      16.0       5.0   \n",
              "3            31         3  ...         7       2.0      11.0      10.0   \n",
              "4            53        26  ...         8       3.0      15.0      15.0   \n",
              "...         ...       ...  ...       ...       ...       ...       ...   \n",
              "95407        11         7  ...         0      25.0      25.0      25.0   \n",
              "95408        19         4  ...         0      20.0      20.0      20.0   \n",
              "95409        20         7  ...         4       3.0      10.0      10.0   \n",
              "95410        20         9  ...        18       5.0      21.0      18.0   \n",
              "95411        27         8  ...        11      10.0     201.0     100.0   \n",
              "\n",
              "       TIMELAG    AVGGIFT  CONTROLN  HPHONE_D  RFA_2F  CLUSTER2  \n",
              "0            4   7.741935     95515         0       4        39  \n",
              "1           18  15.666667    148535         0       2         1  \n",
              "2           12   7.481481     15078         1       4        60  \n",
              "3            9   6.812500    172556         1       4        41  \n",
              "4           14   6.864865      7112         1       2        26  \n",
              "...        ...        ...       ...       ...     ...       ...  \n",
              "95407        9  25.000000    184568         0       1        12  \n",
              "95408        9  20.000000    122706         1       1         2  \n",
              "95409        3   8.285714    189641         1       3        34  \n",
              "95410        4  12.146341      4693         1       4        11  \n",
              "95411        6  96.794872    185114         1       1        12  \n",
              "\n",
              "[95412 rows x 315 columns]>"
            ]
          },
          "execution_count": 7,
          "metadata": {},
          "output_type": "execute_result"
        }
      ],
      "source": [
        "numerical.info"
      ]
    },
    {
      "cell_type": "code",
      "execution_count": null,
      "id": "8ac89803",
      "metadata": {
        "id": "8ac89803",
        "outputId": "b7eb0293-3c94-450c-88f0-c6dfae7275ff"
      },
      "outputs": [
        {
          "data": {
            "text/plain": [
              "True"
            ]
          },
          "execution_count": 8,
          "metadata": {},
          "output_type": "execute_result"
        }
      ],
      "source": [
        "data['WEALTH1'].isnull().values.any()\n"
      ]
    },
    {
      "cell_type": "code",
      "execution_count": null,
      "id": "65ba29a0",
      "metadata": {
        "id": "65ba29a0",
        "outputId": "8ca4e5a8-854a-4380-b939-be06a99512e3"
      },
      "outputs": [
        {
          "data": {
            "text/plain": [
              "True"
            ]
          },
          "execution_count": 9,
          "metadata": {},
          "output_type": "execute_result"
        }
      ],
      "source": [
        "data['GEOCODE2'].isnull().values.any()\n"
      ]
    },
    {
      "cell_type": "code",
      "execution_count": null,
      "id": "d123af14",
      "metadata": {
        "id": "d123af14",
        "outputId": "34c565cc-f137-43b7-c0e6-a03f10fd63bb"
      },
      "outputs": [
        {
          "data": {
            "text/plain": [
              "True"
            ]
          },
          "execution_count": 10,
          "metadata": {},
          "output_type": "execute_result"
        }
      ],
      "source": [
        "data['ADI'].isnull().values.any()\n"
      ]
    },
    {
      "cell_type": "code",
      "execution_count": null,
      "id": "58a368f2",
      "metadata": {
        "id": "58a368f2",
        "outputId": "894cc3ea-d93c-4645-a8b7-445649a5782c"
      },
      "outputs": [
        {
          "name": "stdout",
          "output_type": "stream",
          "text": [
            "       ODATEDW OSOURCE  TCODE STATE    ZIP MAILCODE PVASTATE   DOB NOEXCH  \\\n",
            "0         8901     GRI      0    IL  61081                    3712      0   \n",
            "1         9401     BOA      1    CA  91326                    5202      0   \n",
            "2         9001     AMH      1    NC  27017                       0      0   \n",
            "3         8701     BRY      0    CA  95953                    2801      0   \n",
            "4         8601              0    FL  33176                    2001      0   \n",
            "...        ...     ...    ...   ...    ...      ...      ...   ...    ...   \n",
            "95407     9601     ASE      1    AK  99504                       0      0   \n",
            "95408     9601     DCD      1    TX  77379                    5001      0   \n",
            "95409     9501     MBC      1    MI  48910                    3801      0   \n",
            "95410     8601     PRV      0    CA  91320                    4005      0   \n",
            "95411     8801     MCC      2    NC  28409                    1801      0   \n",
            "\n",
            "      RECINHSE  ... TARGET_D HPHONE_D RFA_2R RFA_2F RFA_2A MDMAUD_R  MDMAUD_F  \\\n",
            "0               ...      0.0        0      L      4      E        X         X   \n",
            "1               ...      0.0        0      L      2      G        X         X   \n",
            "2               ...      0.0        1      L      4      E        X         X   \n",
            "3               ...      0.0        1      L      4      E        X         X   \n",
            "4            X  ...      0.0        1      L      2      F        X         X   \n",
            "...        ...  ...      ...      ...    ...    ...    ...      ...       ...   \n",
            "95407           ...      0.0        0      L      1      G        X         X   \n",
            "95408           ...      0.0        1      L      1      F        X         X   \n",
            "95409           ...      0.0        1      L      3      E        X         X   \n",
            "95410        X  ...     18.0        1      L      4      F        X         X   \n",
            "95411        X  ...      0.0        1      L      1      G        C         1   \n",
            "\n",
            "      MDMAUD_A CLUSTER2 GEOCODE2  \n",
            "0            X     39.0        C  \n",
            "1            X      1.0        A  \n",
            "2            X     60.0        C  \n",
            "3            X     41.0        C  \n",
            "4            X     26.0        A  \n",
            "...        ...      ...      ...  \n",
            "95407        X     12.0        C  \n",
            "95408        X      2.0        A  \n",
            "95409        X     34.0        B  \n",
            "95410        X     11.0        A  \n",
            "95411        C     12.0        C  \n",
            "\n",
            "[95280 rows x 481 columns]\n"
          ]
        }
      ],
      "source": [
        "dfresult = data.dropna(subset=['GEOCODE2'])\n",
        "print(dfresult)"
      ]
    },
    {
      "cell_type": "code",
      "execution_count": null,
      "id": "e652c6d6",
      "metadata": {
        "id": "e652c6d6",
        "outputId": "d4a6782d-5cdb-4a89-ba53-da66181169df"
      },
      "outputs": [
        {
          "name": "stdout",
          "output_type": "stream",
          "text": [
            "       ODATEDW OSOURCE  TCODE STATE     ZIP MAILCODE PVASTATE   DOB NOEXCH  \\\n",
            "1         9401     BOA      1    CA   91326                    5202      0   \n",
            "2         9001     AMH      1    NC   27017                       0      0   \n",
            "3         8701     BRY      0    CA   95953                    2801      0   \n",
            "4         8601              0    FL   33176                    2001      0   \n",
            "6         8701     DRK      0    IN   46755                    6001      0   \n",
            "...        ...     ...    ...   ...     ...      ...      ...   ...    ...   \n",
            "95400     8801     DNA      2    FL   33157                    1201      0   \n",
            "95401     9401     HHH     28    LA   70806                    2801      0   \n",
            "95406     9001     LHJ      0    FL  32776-                    4803      0   \n",
            "95408     9601     DCD      1    TX   77379                    5001      0   \n",
            "95411     8801     MCC      2    NC   28409                    1801      0   \n",
            "\n",
            "      RECINHSE  ... TARGET_D HPHONE_D RFA_2R RFA_2F RFA_2A MDMAUD_R  MDMAUD_F  \\\n",
            "1               ...      0.0        0      L      2      G        X         X   \n",
            "2               ...      0.0        1      L      4      E        X         X   \n",
            "3               ...      0.0        1      L      4      E        X         X   \n",
            "4            X  ...      0.0        1      L      2      F        X         X   \n",
            "6               ...      0.0        1      L      1      E        X         X   \n",
            "...        ...  ...      ...      ...    ...    ...    ...      ...       ...   \n",
            "95400           ...      0.0        1      L      1      F        X         X   \n",
            "95401           ...      0.0        1      L      1      F        X         X   \n",
            "95406           ...      0.0        0      L      4      D        X         X   \n",
            "95408           ...      0.0        1      L      1      F        X         X   \n",
            "95411        X  ...      0.0        1      L      1      G        C         1   \n",
            "\n",
            "      MDMAUD_A CLUSTER2 GEOCODE2  \n",
            "1            X      1.0        A  \n",
            "2            X     60.0        C  \n",
            "3            X     41.0        C  \n",
            "4            X     26.0        A  \n",
            "6            X     53.0        D  \n",
            "...        ...      ...      ...  \n",
            "95400        X      4.0        A  \n",
            "95401        X     32.0        B  \n",
            "95406        X     43.0        C  \n",
            "95408        X      2.0        A  \n",
            "95411        C     12.0        C  \n",
            "\n",
            "[50680 rows x 481 columns]\n"
          ]
        }
      ],
      "source": [
        "dfresult = data.dropna(subset=['WEALTH1'])\n",
        "print(dfresult)"
      ]
    },
    {
      "cell_type": "code",
      "execution_count": null,
      "id": "3ebace56",
      "metadata": {
        "id": "3ebace56",
        "outputId": "eca32e89-1141-48a4-ee21-244e0f32467d"
      },
      "outputs": [
        {
          "name": "stdout",
          "output_type": "stream",
          "text": [
            "       ODATEDW OSOURCE  TCODE STATE    ZIP MAILCODE PVASTATE   DOB NOEXCH  \\\n",
            "0         8901     GRI      0    IL  61081                    3712      0   \n",
            "1         9401     BOA      1    CA  91326                    5202      0   \n",
            "2         9001     AMH      1    NC  27017                       0      0   \n",
            "3         8701     BRY      0    CA  95953                    2801      0   \n",
            "4         8601              0    FL  33176                    2001      0   \n",
            "...        ...     ...    ...   ...    ...      ...      ...   ...    ...   \n",
            "95407     9601     ASE      1    AK  99504                       0      0   \n",
            "95408     9601     DCD      1    TX  77379                    5001      0   \n",
            "95409     9501     MBC      1    MI  48910                    3801      0   \n",
            "95410     8601     PRV      0    CA  91320                    4005      0   \n",
            "95411     8801     MCC      2    NC  28409                    1801      0   \n",
            "\n",
            "      RECINHSE  ... TARGET_D HPHONE_D RFA_2R RFA_2F RFA_2A MDMAUD_R  MDMAUD_F  \\\n",
            "0               ...      0.0        0      L      4      E        X         X   \n",
            "1               ...      0.0        0      L      2      G        X         X   \n",
            "2               ...      0.0        1      L      4      E        X         X   \n",
            "3               ...      0.0        1      L      4      E        X         X   \n",
            "4            X  ...      0.0        1      L      2      F        X         X   \n",
            "...        ...  ...      ...      ...    ...    ...    ...      ...       ...   \n",
            "95407           ...      0.0        0      L      1      G        X         X   \n",
            "95408           ...      0.0        1      L      1      F        X         X   \n",
            "95409           ...      0.0        1      L      3      E        X         X   \n",
            "95410        X  ...     18.0        1      L      4      F        X         X   \n",
            "95411        X  ...      0.0        1      L      1      G        C         1   \n",
            "\n",
            "      MDMAUD_A CLUSTER2 GEOCODE2  \n",
            "0            X     39.0        C  \n",
            "1            X      1.0        A  \n",
            "2            X     60.0        C  \n",
            "3            X     41.0        C  \n",
            "4            X     26.0        A  \n",
            "...        ...      ...      ...  \n",
            "95407        X     12.0        C  \n",
            "95408        X      2.0        A  \n",
            "95409        X     34.0        B  \n",
            "95410        X     11.0        A  \n",
            "95411        C     12.0        C  \n",
            "\n",
            "[95280 rows x 481 columns]\n"
          ]
        }
      ],
      "source": [
        "dfresult = data.dropna(subset=['ADI'])\n",
        "print(dfresult)"
      ]
    },
    {
      "cell_type": "code",
      "execution_count": null,
      "id": "3d55c5b4",
      "metadata": {
        "id": "3d55c5b4",
        "outputId": "0cf4f26b-2204-4c21-95ce-6c7cdeb06a34"
      },
      "outputs": [
        {
          "name": "stdout",
          "output_type": "stream",
          "text": [
            "       ODATEDW OSOURCE  TCODE STATE    ZIP MAILCODE PVASTATE   DOB NOEXCH  \\\n",
            "0         8901     GRI      0    IL  61081                    3712      0   \n",
            "1         9401     BOA      1    CA  91326                    5202      0   \n",
            "2         9001     AMH      1    NC  27017                       0      0   \n",
            "3         8701     BRY      0    CA  95953                    2801      0   \n",
            "4         8601              0    FL  33176                    2001      0   \n",
            "...        ...     ...    ...   ...    ...      ...      ...   ...    ...   \n",
            "95407     9601     ASE      1    AK  99504                       0      0   \n",
            "95408     9601     DCD      1    TX  77379                    5001      0   \n",
            "95409     9501     MBC      1    MI  48910                    3801      0   \n",
            "95410     8601     PRV      0    CA  91320                    4005      0   \n",
            "95411     8801     MCC      2    NC  28409                    1801      0   \n",
            "\n",
            "      RECINHSE  ... TARGET_D HPHONE_D RFA_2R RFA_2F RFA_2A MDMAUD_R  MDMAUD_F  \\\n",
            "0               ...      0.0        0      L      4      E        X         X   \n",
            "1               ...      0.0        0      L      2      G        X         X   \n",
            "2               ...      0.0        1      L      4      E        X         X   \n",
            "3               ...      0.0        1      L      4      E        X         X   \n",
            "4            X  ...      0.0        1      L      2      F        X         X   \n",
            "...        ...  ...      ...      ...    ...    ...    ...      ...       ...   \n",
            "95407           ...      0.0        0      L      1      G        X         X   \n",
            "95408           ...      0.0        1      L      1      F        X         X   \n",
            "95409           ...      0.0        1      L      3      E        X         X   \n",
            "95410        X  ...     18.0        1      L      4      F        X         X   \n",
            "95411        X  ...      0.0        1      L      1      G        C         1   \n",
            "\n",
            "      MDMAUD_A CLUSTER2 GEOCODE2  \n",
            "0            X     39.0        C  \n",
            "1            X      1.0        A  \n",
            "2            X     60.0        C  \n",
            "3            X     41.0        C  \n",
            "4            X     26.0        A  \n",
            "...        ...      ...      ...  \n",
            "95407        X     12.0        C  \n",
            "95408        X      2.0        A  \n",
            "95409        X     34.0        B  \n",
            "95410        X     11.0        A  \n",
            "95411        C     12.0        C  \n",
            "\n",
            "[95280 rows x 481 columns]\n"
          ]
        }
      ],
      "source": [
        "dfresult = data.dropna(subset=['DMA'])\n",
        "print(dfresult)"
      ]
    },
    {
      "cell_type": "code",
      "execution_count": null,
      "id": "44451d6e",
      "metadata": {
        "id": "44451d6e",
        "outputId": "d66cc2d6-e2e0-4b51-850c-8be26a26e30a"
      },
      "outputs": [
        {
          "name": "stdout",
          "output_type": "stream",
          "text": [
            "       ODATEDW OSOURCE  TCODE STATE    ZIP MAILCODE PVASTATE   DOB NOEXCH  \\\n",
            "0         8901     GRI      0    IL  61081                    3712      0   \n",
            "1         9401     BOA      1    CA  91326                    5202      0   \n",
            "2         9001     AMH      1    NC  27017                       0      0   \n",
            "3         8701     BRY      0    CA  95953                    2801      0   \n",
            "4         8601              0    FL  33176                    2001      0   \n",
            "...        ...     ...    ...   ...    ...      ...      ...   ...    ...   \n",
            "95407     9601     ASE      1    AK  99504                       0      0   \n",
            "95408     9601     DCD      1    TX  77379                    5001      0   \n",
            "95409     9501     MBC      1    MI  48910                    3801      0   \n",
            "95410     8601     PRV      0    CA  91320                    4005      0   \n",
            "95411     8801     MCC      2    NC  28409                    1801      0   \n",
            "\n",
            "      RECINHSE  ... TARGET_D HPHONE_D RFA_2R RFA_2F RFA_2A MDMAUD_R  MDMAUD_F  \\\n",
            "0               ...      0.0        0      L      4      E        X         X   \n",
            "1               ...      0.0        0      L      2      G        X         X   \n",
            "2               ...      0.0        1      L      4      E        X         X   \n",
            "3               ...      0.0        1      L      4      E        X         X   \n",
            "4            X  ...      0.0        1      L      2      F        X         X   \n",
            "...        ...  ...      ...      ...    ...    ...    ...      ...       ...   \n",
            "95407           ...      0.0        0      L      1      G        X         X   \n",
            "95408           ...      0.0        1      L      1      F        X         X   \n",
            "95409           ...      0.0        1      L      3      E        X         X   \n",
            "95410        X  ...     18.0        1      L      4      F        X         X   \n",
            "95411        X  ...      0.0        1      L      1      G        C         1   \n",
            "\n",
            "      MDMAUD_A CLUSTER2 GEOCODE2  \n",
            "0            X     39.0        C  \n",
            "1            X      1.0        A  \n",
            "2            X     60.0        C  \n",
            "3            X     41.0        C  \n",
            "4            X     26.0        A  \n",
            "...        ...      ...      ...  \n",
            "95407        X     12.0        C  \n",
            "95408        X      2.0        A  \n",
            "95409        X     34.0        B  \n",
            "95410        X     11.0        A  \n",
            "95411        C     12.0        C  \n",
            "\n",
            "[95280 rows x 481 columns]\n"
          ]
        }
      ],
      "source": [
        "dfresult = data.dropna(subset=['MSA'])\n",
        "print(dfresult)"
      ]
    },
    {
      "cell_type": "code",
      "execution_count": null,
      "id": "13b7e695",
      "metadata": {
        "id": "13b7e695",
        "outputId": "5ca27987-d433-43b0-e6c3-bcf90ce124db"
      },
      "outputs": [
        {
          "data": {
            "text/plain": [
              "TARGET_D    1.000000\n",
              "TARGET_B    0.774232\n",
              "LASTGIFT    0.061678\n",
              "RAMNTALL    0.044810\n",
              "AVGGIFT     0.044299\n",
              "              ...   \n",
              "IC6        -0.023673\n",
              "POBC2      -0.024375\n",
              "IC15       -0.025528\n",
              "EC4        -0.026064\n",
              "CLUSTER2   -0.029085\n",
              "Name: TARGET_D, Length: 317, dtype: float64"
            ]
          },
          "execution_count": 14,
          "metadata": {},
          "output_type": "execute_result"
        }
      ],
      "source": [
        "targets.merge(numerical, left_index=True, right_index=True).corr()['TARGET_D'].sort_values(ascending=False)"
      ]
    },
    {
      "cell_type": "code",
      "execution_count": null,
      "id": "cef9cb98",
      "metadata": {
        "id": "cef9cb98"
      },
      "outputs": [],
      "source": []
    }
  ],
  "metadata": {
    "kernelspec": {
      "display_name": "Python 3 (ipykernel)",
      "language": "python",
      "name": "python3"
    },
    "language_info": {
      "codemirror_mode": {
        "name": "ipython",
        "version": 3
      },
      "file_extension": ".py",
      "mimetype": "text/x-python",
      "name": "python",
      "nbconvert_exporter": "python",
      "pygments_lexer": "ipython3",
      "version": "3.9.12"
    },
    "colab": {
      "provenance": [],
      "include_colab_link": true
    }
  },
  "nbformat": 4,
  "nbformat_minor": 5
}